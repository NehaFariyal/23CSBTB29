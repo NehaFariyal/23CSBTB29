{
  "nbformat": 4,
  "nbformat_minor": 0,
  "metadata": {
    "colab": {
      "provenance": [],
      "authorship_tag": "ABX9TyMh+LSpEWvGFE35XaWv3v+t",
      "include_colab_link": true
    },
    "kernelspec": {
      "name": "python3",
      "display_name": "Python 3"
    },
    "language_info": {
      "name": "python"
    }
  },
  "cells": [
    {
      "cell_type": "markdown",
      "metadata": {
        "id": "view-in-github",
        "colab_type": "text"
      },
      "source": [
        "<a href=\"https://colab.research.google.com/github/NehaFariyal/23CSBTB29/blob/main/Untitled3.ipynb\" target=\"_parent\"><img src=\"https://colab.research.google.com/assets/colab-badge.svg\" alt=\"Open In Colab\"/></a>"
      ]
    },
    {
      "cell_type": "code",
      "execution_count": null,
      "metadata": {
        "id": "oe4tIIYI-CEi"
      },
      "outputs": [],
      "source": []
    },
    {
      "cell_type": "markdown",
      "source": [
        "**CODE FOR BFS: **"
      ],
      "metadata": {
        "id": "CGYyBfss-wZV"
      }
    },
    {
      "cell_type": "markdown",
      "source": [],
      "metadata": {
        "id": "hO-9hEec-6_8"
      }
    },
    {
      "cell_type": "code",
      "source": [
        "from queue import Queue\n",
        "\n",
        "graph = {0: [1, 2, 3],\n",
        "         1: [0, 2],\n",
        "         2: [1, 3, 5],\n",
        "         3: [0, 2, 4],\n",
        "         4: [3, 5, 7],\n",
        "         5: [2, 4, 6, 7],\n",
        "         6: [5, 7],\n",
        "         7:[]}\n",
        "print(\"The adjacency List representing the graph is:\")\n",
        "print(graph)\n",
        "\n",
        "\n",
        "def bfs(graph, source):\n",
        "    Q = Queue()\n",
        "    visited_vertices = set()\n",
        "    Q.put(source)\n",
        "    visited_vertices.update({source})\n",
        "    while not Q.empty():\n",
        "        vertex = Q.get()\n",
        "        print(vertex, end=\"-->\")\n",
        "        for u in graph[vertex]:\n",
        "            if u not in visited_vertices:\n",
        "                Q.put(u)\n",
        "                visited_vertices.update({u})\n",
        "\n",
        "print(\"BFS traversal of graph with source 1 is:\")\n",
        "bfs(graph, 1)\n",
        "\n"
      ],
      "metadata": {
        "colab": {
          "base_uri": "https://localhost:8080/"
        },
        "id": "AlEEy2HZ-8cf",
        "outputId": "12f0de2b-15aa-45fc-8f36-fecda46e8db5"
      },
      "execution_count": 1,
      "outputs": [
        {
          "output_type": "stream",
          "name": "stdout",
          "text": [
            "The adjacency List representing the graph is:\n",
            "{0: [1, 2, 3], 1: [0, 2], 2: [1, 3, 5], 3: [0, 2, 4], 4: [3, 5, 7], 5: [2, 4, 6, 7], 6: [5, 7], 7: []}\n",
            "BFS traversal of graph with source 1 is:\n",
            "1-->0-->2-->3-->5-->4-->6-->7-->"
          ]
        }
      ]
    },
    {
      "cell_type": "markdown",
      "source": [
        "CODE FOR BFS:"
      ],
      "metadata": {
        "id": "NkS1zT7rBG5e"
      }
    },
    {
      "cell_type": "markdown",
      "source": [],
      "metadata": {
        "id": "YW7eseLKBaVN"
      }
    },
    {
      "cell_type": "code",
      "source": [
        "graph = {0: [1, 2, 3],\n",
        "         1: [0, 2],\n",
        "         2: [1, 3, 5],\n",
        "         3: [0, 2, 4],\n",
        "         4: [3, 5, 7],\n",
        "         5: [2, 4, 6, 7],\n",
        "         6: [5, 7],\n",
        "         7:[]}\n",
        "print(\"The adjacency List representing the graph is:\")\n",
        "print(graph)\n",
        "\n",
        "\n",
        "def bfs(graph, source):\n",
        "    Q = Queue()\n",
        "    visited_vertices = set()\n",
        "    Q.put(source)\n",
        "    visited_vertices.update({source})\n",
        "    while not Q.empty():\n",
        "        vertex = Q.get()\n",
        "        print(vertex, end=\"-->\")\n",
        "        for u in graph[vertex]:\n",
        "            if u not in visited_vertices:\n",
        "                Q.put(u)\n",
        "                visited_vertices.update({u})\n",
        "\n",
        "print(\"BFS traversal of graph with source 1 is:\")\n",
        "bfs(graph, 1)"
      ],
      "metadata": {
        "colab": {
          "base_uri": "https://localhost:8080/"
        },
        "id": "TxAiChTiBbWo",
        "outputId": "d131d857-a11a-4dd4-965a-b80cc0c9341a"
      },
      "execution_count": 2,
      "outputs": [
        {
          "output_type": "stream",
          "name": "stdout",
          "text": [
            "The adjacency List representing the graph is:\n",
            "{0: [1, 2, 3], 1: [0, 2], 2: [1, 3, 5], 3: [0, 2, 4], 4: [3, 5, 7], 5: [2, 4, 6, 7], 6: [5, 7], 7: []}\n",
            "BFS traversal of graph with source 1 is:\n",
            "1-->0-->2-->3-->5-->4-->6-->7-->"
          ]
        }
      ]
    },
    {
      "cell_type": "markdown",
      "source": [],
      "metadata": {
        "id": "Y8stng29Bs4W"
      }
    },
    {
      "cell_type": "markdown",
      "source": [
        "https://drive.google.com/open?id=1sUG-TfnH3yhD3zx613vPBYBztClQXiq-&usp=drive_fs"
      ],
      "metadata": {
        "id": "Up8ixdW8B6Gf"
      }
    },
    {
      "cell_type": "code",
      "source": [],
      "metadata": {
        "id": "k6uxk6d6Bsbc"
      },
      "execution_count": null,
      "outputs": []
    },
    {
      "cell_type": "markdown",
      "source": [],
      "metadata": {
        "id": "ORwBOioa-d5A"
      }
    }
  ]
}